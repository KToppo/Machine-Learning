{
 "cells": [
  {
   "cell_type": "code",
   "execution_count": 1,
   "id": "e86b26f7-203d-4e3c-82a8-a5edbffef382",
   "metadata": {},
   "outputs": [],
   "source": [
    "from kaggle_handler import handler\n",
    "import numpy as np\n",
    "import pandas as pd"
   ]
  },
  {
   "cell_type": "code",
   "execution_count": 2,
   "id": "80fcc3f8-8d99-4860-89fc-d97272d5227b",
   "metadata": {},
   "outputs": [],
   "source": [
    "from sklearn.model_selection import train_test_split, cross_val_score\n",
    "from sklearn.tree import DecisionTreeClassifier\n",
    "from sklearn.metrics import accuracy_score\n",
    "from sklearn.compose import ColumnTransformer\n",
    "\n",
    "from sklearn.preprocessing import Binarizer, LabelEncoder"
   ]
  },
  {
   "cell_type": "markdown",
   "id": "e684af10-d64d-4c9d-9789-77b2e7654fca",
   "metadata": {
    "jp-MarkdownHeadingCollapsed": true
   },
   "source": [
    "# Downloading / Loading Dataset"
   ]
  },
  {
   "cell_type": "code",
   "execution_count": 3,
   "id": "3f4c59b5-f718-42ca-b90a-d235e115ec62",
   "metadata": {},
   "outputs": [
    {
     "name": "stdout",
     "output_type": "stream",
     "text": [
      "Directory 'Assets' already exists.\n",
      "Datasets already exist in Assets folder\n",
      "['lung_cancer_prediction_dataset.csv', 'Titanic-Dataset.csv', 'GenZ_DatingApp_Data.csv', 'concrete_data.csv']\n",
      " Change Add_more parameter to download more datasets\n"
     ]
    }
   ],
   "source": [
    "Assets = handler('aizahzeeshan/lung-cancer-risk-in-25-countries')"
   ]
  },
  {
   "cell_type": "code",
   "execution_count": 4,
   "id": "3e6e0ecf-9ee1-452a-8ae7-564cf21bf86c",
   "metadata": {},
   "outputs": [
    {
     "data": {
      "text/plain": [
       "['lung_cancer_prediction_dataset.csv',\n",
       " 'Titanic-Dataset.csv',\n",
       " 'GenZ_DatingApp_Data.csv',\n",
       " 'concrete_data.csv']"
      ]
     },
     "execution_count": 4,
     "metadata": {},
     "output_type": "execute_result"
    }
   ],
   "source": [
    "Assets"
   ]
  },
  {
   "cell_type": "code",
   "execution_count": 5,
   "id": "e0606787-07c4-421e-81f0-b2abfef78fcb",
   "metadata": {},
   "outputs": [
    {
     "data": {
      "text/html": [
       "<div>\n",
       "<style scoped>\n",
       "    .dataframe tbody tr th:only-of-type {\n",
       "        vertical-align: middle;\n",
       "    }\n",
       "\n",
       "    .dataframe tbody tr th {\n",
       "        vertical-align: top;\n",
       "    }\n",
       "\n",
       "    .dataframe thead th {\n",
       "        text-align: right;\n",
       "    }\n",
       "</style>\n",
       "<table border=\"1\" class=\"dataframe\">\n",
       "  <thead>\n",
       "    <tr style=\"text-align: right;\">\n",
       "      <th></th>\n",
       "      <th>Population_Size</th>\n",
       "      <th>Age</th>\n",
       "      <th>Cigarettes_per_Day</th>\n",
       "      <th>Cancer_Stage</th>\n",
       "      <th>Annual_Lung_Cancer_Deaths</th>\n",
       "    </tr>\n",
       "  </thead>\n",
       "  <tbody>\n",
       "    <tr>\n",
       "      <th>99830</th>\n",
       "      <td>145</td>\n",
       "      <td>28</td>\n",
       "      <td>19</td>\n",
       "      <td>NaN</td>\n",
       "      <td>60000</td>\n",
       "    </tr>\n",
       "    <tr>\n",
       "      <th>16591</th>\n",
       "      <td>70</td>\n",
       "      <td>60</td>\n",
       "      <td>0</td>\n",
       "      <td>NaN</td>\n",
       "      <td>26000</td>\n",
       "    </tr>\n",
       "    <tr>\n",
       "      <th>115022</th>\n",
       "      <td>206</td>\n",
       "      <td>33</td>\n",
       "      <td>19</td>\n",
       "      <td>Stage 1</td>\n",
       "      <td>20000</td>\n",
       "    </tr>\n",
       "  </tbody>\n",
       "</table>\n",
       "</div>"
      ],
      "text/plain": [
       "        Population_Size  Age  Cigarettes_per_Day Cancer_Stage  \\\n",
       "99830               145   28                  19          NaN   \n",
       "16591                70   60                   0          NaN   \n",
       "115022              206   33                  19      Stage 1   \n",
       "\n",
       "        Annual_Lung_Cancer_Deaths  \n",
       "99830                       60000  \n",
       "16591                       26000  \n",
       "115022                      20000  "
      ]
     },
     "execution_count": 5,
     "metadata": {},
     "output_type": "execute_result"
    }
   ],
   "source": [
    "df =pd.read_csv('Assets/lung_cancer_prediction_dataset.csv',\n",
    "                usecols=['Population_Size','Age','Cigarettes_per_Day','Annual_Lung_Cancer_Deaths','Cancer_Stage'],\n",
    "                dtype={'Population_Size':np.int32,'Age':np.int32,'Cigarettes_per_Day':np.int32,'Annual_Lung_Cancer_Deaths':np.int32,'Cancer_Stage':object})\n",
    "df.sample(3)"
   ]
  },
  {
   "cell_type": "code",
   "execution_count": 6,
   "id": "aafc9815-ae85-439c-b6fa-74d01821274b",
   "metadata": {},
   "outputs": [
    {
     "data": {
      "text/plain": [
       "Population_Size                   0\n",
       "Age                               0\n",
       "Cigarettes_per_Day                0\n",
       "Cancer_Stage                 211671\n",
       "Annual_Lung_Cancer_Deaths         0\n",
       "dtype: int64"
      ]
     },
     "execution_count": 6,
     "metadata": {},
     "output_type": "execute_result"
    }
   ],
   "source": [
    "df.isna().sum()"
   ]
  },
  {
   "cell_type": "code",
   "execution_count": 7,
   "id": "ca0bb148-9051-4dc4-b7c8-3ad31bf71416",
   "metadata": {},
   "outputs": [],
   "source": [
    "df.dropna(subset=['Cancer_Stage'],axis=0,inplace=True)"
   ]
  },
  {
   "cell_type": "code",
   "execution_count": 8,
   "id": "2508fdcc-a73b-4e80-aedd-0d2690c19a3e",
   "metadata": {},
   "outputs": [
    {
     "data": {
      "text/html": [
       "<div>\n",
       "<style scoped>\n",
       "    .dataframe tbody tr th:only-of-type {\n",
       "        vertical-align: middle;\n",
       "    }\n",
       "\n",
       "    .dataframe tbody tr th {\n",
       "        vertical-align: top;\n",
       "    }\n",
       "\n",
       "    .dataframe thead th {\n",
       "        text-align: right;\n",
       "    }\n",
       "</style>\n",
       "<table border=\"1\" class=\"dataframe\">\n",
       "  <thead>\n",
       "    <tr style=\"text-align: right;\">\n",
       "      <th></th>\n",
       "      <th>Population_Size</th>\n",
       "      <th>Age</th>\n",
       "      <th>Cigarettes_per_Day</th>\n",
       "      <th>Cancer_Stage</th>\n",
       "      <th>Annual_Lung_Cancer_Deaths</th>\n",
       "    </tr>\n",
       "  </thead>\n",
       "  <tbody>\n",
       "    <tr>\n",
       "      <th>115823</th>\n",
       "      <td>166</td>\n",
       "      <td>57</td>\n",
       "      <td>0</td>\n",
       "      <td>Stage 3</td>\n",
       "      <td>25000</td>\n",
       "    </tr>\n",
       "    <tr>\n",
       "      <th>58918</th>\n",
       "      <td>85</td>\n",
       "      <td>66</td>\n",
       "      <td>0</td>\n",
       "      <td>Stage 2</td>\n",
       "      <td>29000</td>\n",
       "    </tr>\n",
       "    <tr>\n",
       "      <th>71094</th>\n",
       "      <td>84</td>\n",
       "      <td>35</td>\n",
       "      <td>11</td>\n",
       "      <td>Stage 2</td>\n",
       "      <td>27000</td>\n",
       "    </tr>\n",
       "  </tbody>\n",
       "</table>\n",
       "</div>"
      ],
      "text/plain": [
       "        Population_Size  Age  Cigarettes_per_Day Cancer_Stage  \\\n",
       "115823              166   57                   0      Stage 3   \n",
       "58918                85   66                   0      Stage 2   \n",
       "71094                84   35                  11      Stage 2   \n",
       "\n",
       "        Annual_Lung_Cancer_Deaths  \n",
       "115823                      25000  \n",
       "58918                       29000  \n",
       "71094                       27000  "
      ]
     },
     "execution_count": 8,
     "metadata": {},
     "output_type": "execute_result"
    }
   ],
   "source": [
    "df.sample(3)"
   ]
  },
  {
   "cell_type": "markdown",
   "id": "9c56efeb-bc5a-437f-b76a-f3b7a1d9fb2e",
   "metadata": {
    "jp-MarkdownHeadingCollapsed": true
   },
   "source": [
    "# Spliting Dataset"
   ]
  },
  {
   "cell_type": "code",
   "execution_count": 9,
   "id": "cbe3da3d-bdc7-48d3-b828-dc37250857af",
   "metadata": {},
   "outputs": [],
   "source": [
    "X = df.drop(columns=['Cancer_Stage'])\n",
    "y = df['Cancer_Stage']\n",
    "y = LabelEncoder().fit_transform(y)"
   ]
  },
  {
   "cell_type": "code",
   "execution_count": 10,
   "id": "d34b9cfd-174d-4306-b90d-5da91cd83609",
   "metadata": {},
   "outputs": [
    {
     "data": {
      "text/plain": [
       "((7168, 4), (7168,), (1793, 4), (1793,))"
      ]
     },
     "execution_count": 10,
     "metadata": {},
     "output_type": "execute_result"
    }
   ],
   "source": [
    "X_train,X_test,y_train,y_test = train_test_split(X,y,test_size=.2)\n",
    "X_train.shape,y_train.shape,X_test.shape,y_test.shape"
   ]
  },
  {
   "cell_type": "markdown",
   "id": "1867eb62-c3e8-4b12-a482-142cc49dfa13",
   "metadata": {
    "jp-MarkdownHeadingCollapsed": true
   },
   "source": [
    "# Treaning and Testing Model without Transformation"
   ]
  },
  {
   "cell_type": "code",
   "execution_count": 11,
   "id": "9cec56af-53d5-46b6-a1d4-3ab41adeefcd",
   "metadata": {},
   "outputs": [
    {
     "data": {
      "text/plain": [
       "np.float64(0.261)"
      ]
     },
     "execution_count": 11,
     "metadata": {},
     "output_type": "execute_result"
    }
   ],
   "source": [
    "dtc = DecisionTreeClassifier()\n",
    "dtc.fit(X_train,y_train)\n",
    "y_pred = dtc.predict(X_test)\n",
    "np.round(accuracy_score(y_true=y_test,y_pred=y_pred),3)"
   ]
  },
  {
   "cell_type": "markdown",
   "id": "2b0262a3-5427-4cc6-8929-a5012858e9c2",
   "metadata": {
    "jp-MarkdownHeadingCollapsed": true
   },
   "source": [
    "# Cross Validating Model without Transformation"
   ]
  },
  {
   "cell_type": "code",
   "execution_count": 12,
   "id": "4f777462-c0af-46a6-9c7c-33eed496d86c",
   "metadata": {},
   "outputs": [
    {
     "data": {
      "text/plain": [
       "np.float64(0.256)"
      ]
     },
     "execution_count": 12,
     "metadata": {},
     "output_type": "execute_result"
    }
   ],
   "source": [
    "dtc = DecisionTreeClassifier()\n",
    "np.round(cross_val_score(dtc,X,y,cv=30).mean(),3)"
   ]
  },
  {
   "cell_type": "markdown",
   "id": "f432f4ae-d5ee-434d-9edd-772a25783e70",
   "metadata": {},
   "source": [
    "# Binarizer ColumnTransformer\n",
    "- Convert the column data to \"0\" or \"1\""
   ]
  },
  {
   "cell_type": "code",
   "execution_count": 13,
   "id": "3aa998ae-b92d-47d7-ae1f-9019eb4ef0f5",
   "metadata": {},
   "outputs": [],
   "source": [
    "ct = ColumnTransformer(transformers=[('binarizer',\n",
    "                                      Binarizer(copy=False,threshold=X['Annual_Lung_Cancer_Deaths'].median()),\n",
    "                                      ['Annual_Lung_Cancer_Deaths']\n",
    "                                     )],\n",
    "                       remainder='passthrough')"
   ]
  },
  {
   "cell_type": "code",
   "execution_count": 14,
   "id": "74337537-8892-4313-a4b2-5acaaff5429c",
   "metadata": {},
   "outputs": [],
   "source": [
    "X_train_binarized = ct.fit_transform(X_train)\n",
    "X_test_binarized = ct.transform(X_test)"
   ]
  },
  {
   "cell_type": "code",
   "execution_count": 15,
   "id": "1c1a81ce-5002-4fb5-a3cc-db83f8abb985",
   "metadata": {},
   "outputs": [
    {
     "data": {
      "text/html": [
       "<div>\n",
       "<style scoped>\n",
       "    .dataframe tbody tr th:only-of-type {\n",
       "        vertical-align: middle;\n",
       "    }\n",
       "\n",
       "    .dataframe tbody tr th {\n",
       "        vertical-align: top;\n",
       "    }\n",
       "\n",
       "    .dataframe thead th {\n",
       "        text-align: right;\n",
       "    }\n",
       "</style>\n",
       "<table border=\"1\" class=\"dataframe\">\n",
       "  <thead>\n",
       "    <tr style=\"text-align: right;\">\n",
       "      <th></th>\n",
       "      <th>Annual_Lung_Cancer_Deaths</th>\n",
       "      <th>Population_Size</th>\n",
       "      <th>Age</th>\n",
       "      <th>Cigarettes_per_Day</th>\n",
       "    </tr>\n",
       "  </thead>\n",
       "  <tbody>\n",
       "    <tr>\n",
       "      <th>0</th>\n",
       "      <td>1</td>\n",
       "      <td>83</td>\n",
       "      <td>44</td>\n",
       "      <td>7</td>\n",
       "    </tr>\n",
       "    <tr>\n",
       "      <th>1</th>\n",
       "      <td>1</td>\n",
       "      <td>273</td>\n",
       "      <td>51</td>\n",
       "      <td>16</td>\n",
       "    </tr>\n",
       "    <tr>\n",
       "      <th>2</th>\n",
       "      <td>0</td>\n",
       "      <td>120</td>\n",
       "      <td>51</td>\n",
       "      <td>17</td>\n",
       "    </tr>\n",
       "    <tr>\n",
       "      <th>3</th>\n",
       "      <td>0</td>\n",
       "      <td>85</td>\n",
       "      <td>40</td>\n",
       "      <td>0</td>\n",
       "    </tr>\n",
       "    <tr>\n",
       "      <th>4</th>\n",
       "      <td>0</td>\n",
       "      <td>225</td>\n",
       "      <td>59</td>\n",
       "      <td>27</td>\n",
       "    </tr>\n",
       "  </tbody>\n",
       "</table>\n",
       "</div>"
      ],
      "text/plain": [
       "   Annual_Lung_Cancer_Deaths  Population_Size  Age  Cigarettes_per_Day\n",
       "0                          1               83   44                   7\n",
       "1                          1              273   51                  16\n",
       "2                          0              120   51                  17\n",
       "3                          0               85   40                   0\n",
       "4                          0              225   59                  27"
      ]
     },
     "execution_count": 15,
     "metadata": {},
     "output_type": "execute_result"
    }
   ],
   "source": [
    "pd.DataFrame(X_train_binarized, columns=['Annual_Lung_Cancer_Deaths','Population_Size', 'Age', 'Cigarettes_per_Day']).head(5)"
   ]
  },
  {
   "cell_type": "markdown",
   "id": "d79473a8-2b54-450a-b772-5844375ac2b0",
   "metadata": {
    "jp-MarkdownHeadingCollapsed": true
   },
   "source": [
    "# Treaning and Testing Model with Transformation"
   ]
  },
  {
   "cell_type": "code",
   "execution_count": 16,
   "id": "2c5e430d-4c32-4a6b-a68d-b7bd68ac2763",
   "metadata": {},
   "outputs": [
    {
     "data": {
      "text/plain": [
       "np.float64(0.247)"
      ]
     },
     "execution_count": 16,
     "metadata": {},
     "output_type": "execute_result"
    }
   ],
   "source": [
    "dtc = DecisionTreeClassifier()\n",
    "dtc.fit(X_train_binarized,y_train)\n",
    "y_pred = dtc.predict(X_test_binarized)\n",
    "np.round(accuracy_score(y_true=y_test,y_pred=y_pred),3)"
   ]
  },
  {
   "cell_type": "markdown",
   "id": "6d08dcc1-c845-4cc3-8752-6c36b9c5c96e",
   "metadata": {
    "jp-MarkdownHeadingCollapsed": true
   },
   "source": [
    "# Cross Validating Model with Transformation"
   ]
  },
  {
   "cell_type": "code",
   "execution_count": 17,
   "id": "01f5b5a7-9aa4-4241-935a-855f87b6c957",
   "metadata": {},
   "outputs": [
    {
     "data": {
      "text/plain": [
       "np.float64(0.253)"
      ]
     },
     "execution_count": 17,
     "metadata": {},
     "output_type": "execute_result"
    }
   ],
   "source": [
    "dtc = DecisionTreeClassifier()\n",
    "X_ = ct.transform(X)\n",
    "np.round(cross_val_score(dtc,X_,y,cv=30).mean(),3)"
   ]
  }
 ],
 "metadata": {
  "kernelspec": {
   "display_name": "Python 3 (ipykernel)",
   "language": "python",
   "name": "python3"
  },
  "language_info": {
   "codemirror_mode": {
    "name": "ipython",
    "version": 3
   },
   "file_extension": ".py",
   "mimetype": "text/x-python",
   "name": "python",
   "nbconvert_exporter": "python",
   "pygments_lexer": "ipython3",
   "version": "3.12.8"
  }
 },
 "nbformat": 4,
 "nbformat_minor": 5
}
