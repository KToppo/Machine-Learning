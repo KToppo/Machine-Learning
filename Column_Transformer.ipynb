{
 "cells": [
  {
   "cell_type": "code",
   "execution_count": 1,
   "id": "3d30529a-d279-44d6-ad8b-3983094be7f6",
   "metadata": {},
   "outputs": [],
   "source": [
    "import pandas as pd\n",
    "import numpy as np\n",
    "from kaggle_handler import handler"
   ]
  },
  {
   "cell_type": "code",
   "execution_count": 2,
   "id": "f3eb2f43-1760-468e-84c1-36c930b2f1a4",
   "metadata": {},
   "outputs": [],
   "source": [
    "from sklearn.model_selection import train_test_split\n",
    "from sklearn.preprocessing import OneHotEncoder, OrdinalEncoder"
   ]
  },
  {
   "cell_type": "markdown",
   "id": "4f059c7b-f16d-4dc9-bfd6-e3d4610dffe7",
   "metadata": {
    "jp-MarkdownHeadingCollapsed": true
   },
   "source": [
    "# Downloading & Loading Dataset\n",
    "\n",
    "    This Dataset is a toy dataset and only being used for learning purpose"
   ]
  },
  {
   "cell_type": "code",
   "execution_count": 3,
   "id": "4dbd8416-7b0b-480e-a5ce-077e89fb99ba",
   "metadata": {},
   "outputs": [
    {
     "name": "stdout",
     "output_type": "stream",
     "text": [
      "Directory 'Assets' already exists.\n",
      "Datasets already exist in Assets folder\n",
      "['tested.csv', 'GenZ_DatingApp_Data.csv']\n",
      " Change Add_more parameter to download more datasets\n"
     ]
    }
   ],
   "source": [
    "Assets = handler(\"ashaychoudhary/gen-z-dating-apps-india\")"
   ]
  },
  {
   "cell_type": "code",
   "execution_count": 4,
   "id": "f1c2035b-df43-4a6b-a31f-ca09efd00e98",
   "metadata": {},
   "outputs": [
    {
     "data": {
      "text/html": [
       "<div>\n",
       "<style scoped>\n",
       "    .dataframe tbody tr th:only-of-type {\n",
       "        vertical-align: middle;\n",
       "    }\n",
       "\n",
       "    .dataframe tbody tr th {\n",
       "        vertical-align: top;\n",
       "    }\n",
       "\n",
       "    .dataframe thead th {\n",
       "        text-align: right;\n",
       "    }\n",
       "</style>\n",
       "<table border=\"1\" class=\"dataframe\">\n",
       "  <thead>\n",
       "    <tr style=\"text-align: right;\">\n",
       "      <th></th>\n",
       "      <th>Gender</th>\n",
       "      <th>Location</th>\n",
       "      <th>Education</th>\n",
       "      <th>Occupation</th>\n",
       "      <th>Reason_for_Using</th>\n",
       "    </tr>\n",
       "  </thead>\n",
       "  <tbody>\n",
       "    <tr>\n",
       "      <th>60</th>\n",
       "      <td>Non-binary</td>\n",
       "      <td>Bangalore</td>\n",
       "      <td>Undergraduate</td>\n",
       "      <td>Intern</td>\n",
       "      <td>Casual Dating</td>\n",
       "    </tr>\n",
       "    <tr>\n",
       "      <th>158</th>\n",
       "      <td>Non-binary</td>\n",
       "      <td>Chennai</td>\n",
       "      <td>Graduate</td>\n",
       "      <td>Student</td>\n",
       "      <td>Finding a Partner</td>\n",
       "    </tr>\n",
       "    <tr>\n",
       "      <th>326</th>\n",
       "      <td>Female</td>\n",
       "      <td>Kolkata</td>\n",
       "      <td>Graduate</td>\n",
       "      <td>Part-time Job</td>\n",
       "      <td>Finding a Partner</td>\n",
       "    </tr>\n",
       "    <tr>\n",
       "      <th>341</th>\n",
       "      <td>Non-binary</td>\n",
       "      <td>Hyderabad</td>\n",
       "      <td>Graduate</td>\n",
       "      <td>Part-time Job</td>\n",
       "      <td>Finding a Partner</td>\n",
       "    </tr>\n",
       "    <tr>\n",
       "      <th>175</th>\n",
       "      <td>Male</td>\n",
       "      <td>Bangalore</td>\n",
       "      <td>Graduate</td>\n",
       "      <td>Student</td>\n",
       "      <td>Social Interaction</td>\n",
       "    </tr>\n",
       "  </tbody>\n",
       "</table>\n",
       "</div>"
      ],
      "text/plain": [
       "         Gender   Location      Education     Occupation    Reason_for_Using\n",
       "60   Non-binary  Bangalore  Undergraduate         Intern       Casual Dating\n",
       "158  Non-binary    Chennai       Graduate        Student   Finding a Partner\n",
       "326      Female    Kolkata       Graduate  Part-time Job   Finding a Partner\n",
       "341  Non-binary  Hyderabad       Graduate  Part-time Job   Finding a Partner\n",
       "175        Male  Bangalore       Graduate        Student  Social Interaction"
      ]
     },
     "execution_count": 4,
     "metadata": {},
     "output_type": "execute_result"
    }
   ],
   "source": [
    "df = pd.read_csv('Assets/GenZ_DatingApp_Data.csv', usecols=['Gender', 'Location', 'Education', 'Occupation', 'Reason_for_Using'])\n",
    "df.sample(5)"
   ]
  },
  {
   "cell_type": "markdown",
   "id": "cabcb08b-f3d3-40ab-8f77-912545021140",
   "metadata": {
    "jp-MarkdownHeadingCollapsed": true
   },
   "source": [
    "# Spliting Dataset"
   ]
  },
  {
   "cell_type": "code",
   "execution_count": 5,
   "id": "18d3f9bf-11cc-4018-9094-095116e0e069",
   "metadata": {},
   "outputs": [
    {
     "data": {
      "text/plain": [
       "((400, 4), (400,), (100, 4), (100,))"
      ]
     },
     "execution_count": 5,
     "metadata": {},
     "output_type": "execute_result"
    }
   ],
   "source": [
    "X_train, X_test, y_train, y_test = train_test_split(df[['Gender','Location','Education','Occupation']],\n",
    "                                                    df['Reason_for_Using'],test_size=.2)\n",
    "X_train.shape, y_train.shape, X_test.shape, y_test.shape"
   ]
  },
  {
   "cell_type": "markdown",
   "id": "8b78e532-2886-4086-a148-f172c21fe9c0",
   "metadata": {},
   "source": [
    "# Column Transformer"
   ]
  },
  {
   "cell_type": "code",
   "execution_count": 6,
   "id": "18d0842a-e3e4-48e2-84dc-5e11ced00471",
   "metadata": {},
   "outputs": [
    {
     "data": {
      "text/plain": [
       "(array(['Postgraduate', 'Undergraduate', 'Graduate'], dtype=object),\n",
       " array(['Intern', 'Freelancer', 'Student', 'Full-time Job',\n",
       "        'Part-time Job'], dtype=object))"
      ]
     },
     "execution_count": 6,
     "metadata": {},
     "output_type": "execute_result"
    }
   ],
   "source": [
    "X_train['Education'].unique(), X_train['Occupation'].unique()"
   ]
  },
  {
   "cell_type": "code",
   "execution_count": 7,
   "id": "4df44818-ab26-40bc-b34a-3f4ec5b56c8b",
   "metadata": {},
   "outputs": [],
   "source": [
    "from sklearn.compose import ColumnTransformer\n",
    "\n",
    "ct = ColumnTransformer(transformers=[\n",
    "    ('ohe',OneHotEncoder(drop='first',sparse_output=False,dtype=np.int32),['Gender', 'Location']),\n",
    "    ('oe',OrdinalEncoder(categories=[['Postgraduate', 'Graduate', 'Undergraduate'],\n",
    "                                    ['Student', 'Freelancer', 'Intern', 'Part-time Job', 'Full-time Job']],\n",
    "                        dtype=np.int32),['Education','Occupation'])\n",
    "],remainder='passthrough')\n",
    "X_train_ct = ct.fit_transform(X_train)\n",
    "X_test_ct = ct.transform(X_test)"
   ]
  },
  {
   "cell_type": "code",
   "execution_count": 8,
   "id": "8dcc2661-cea6-45e7-8136-06f348b132ae",
   "metadata": {},
   "outputs": [
    {
     "data": {
      "text/html": [
       "<div>\n",
       "<style scoped>\n",
       "    .dataframe tbody tr th:only-of-type {\n",
       "        vertical-align: middle;\n",
       "    }\n",
       "\n",
       "    .dataframe tbody tr th {\n",
       "        vertical-align: top;\n",
       "    }\n",
       "\n",
       "    .dataframe thead th {\n",
       "        text-align: right;\n",
       "    }\n",
       "</style>\n",
       "<table border=\"1\" class=\"dataframe\">\n",
       "  <thead>\n",
       "    <tr style=\"text-align: right;\">\n",
       "      <th></th>\n",
       "      <th>ohe__Gender_Male</th>\n",
       "      <th>ohe__Gender_Non-binary</th>\n",
       "      <th>ohe__Location_Chennai</th>\n",
       "      <th>ohe__Location_Delhi</th>\n",
       "      <th>ohe__Location_Hyderabad</th>\n",
       "      <th>ohe__Location_Kolkata</th>\n",
       "      <th>ohe__Location_Mumbai</th>\n",
       "      <th>ohe__Location_Pune</th>\n",
       "      <th>oe__Education</th>\n",
       "      <th>oe__Occupation</th>\n",
       "    </tr>\n",
       "  </thead>\n",
       "  <tbody>\n",
       "    <tr>\n",
       "      <th>0</th>\n",
       "      <td>1</td>\n",
       "      <td>0</td>\n",
       "      <td>0</td>\n",
       "      <td>0</td>\n",
       "      <td>0</td>\n",
       "      <td>0</td>\n",
       "      <td>0</td>\n",
       "      <td>1</td>\n",
       "      <td>0</td>\n",
       "      <td>2</td>\n",
       "    </tr>\n",
       "    <tr>\n",
       "      <th>1</th>\n",
       "      <td>1</td>\n",
       "      <td>0</td>\n",
       "      <td>0</td>\n",
       "      <td>0</td>\n",
       "      <td>0</td>\n",
       "      <td>0</td>\n",
       "      <td>1</td>\n",
       "      <td>0</td>\n",
       "      <td>2</td>\n",
       "      <td>1</td>\n",
       "    </tr>\n",
       "    <tr>\n",
       "      <th>2</th>\n",
       "      <td>1</td>\n",
       "      <td>0</td>\n",
       "      <td>0</td>\n",
       "      <td>0</td>\n",
       "      <td>0</td>\n",
       "      <td>0</td>\n",
       "      <td>1</td>\n",
       "      <td>0</td>\n",
       "      <td>0</td>\n",
       "      <td>0</td>\n",
       "    </tr>\n",
       "    <tr>\n",
       "      <th>3</th>\n",
       "      <td>0</td>\n",
       "      <td>1</td>\n",
       "      <td>0</td>\n",
       "      <td>1</td>\n",
       "      <td>0</td>\n",
       "      <td>0</td>\n",
       "      <td>0</td>\n",
       "      <td>0</td>\n",
       "      <td>0</td>\n",
       "      <td>4</td>\n",
       "    </tr>\n",
       "    <tr>\n",
       "      <th>4</th>\n",
       "      <td>0</td>\n",
       "      <td>1</td>\n",
       "      <td>1</td>\n",
       "      <td>0</td>\n",
       "      <td>0</td>\n",
       "      <td>0</td>\n",
       "      <td>0</td>\n",
       "      <td>0</td>\n",
       "      <td>1</td>\n",
       "      <td>1</td>\n",
       "    </tr>\n",
       "  </tbody>\n",
       "</table>\n",
       "</div>"
      ],
      "text/plain": [
       "   ohe__Gender_Male  ohe__Gender_Non-binary  ohe__Location_Chennai  \\\n",
       "0                 1                       0                      0   \n",
       "1                 1                       0                      0   \n",
       "2                 1                       0                      0   \n",
       "3                 0                       1                      0   \n",
       "4                 0                       1                      1   \n",
       "\n",
       "   ohe__Location_Delhi  ohe__Location_Hyderabad  ohe__Location_Kolkata  \\\n",
       "0                    0                        0                      0   \n",
       "1                    0                        0                      0   \n",
       "2                    0                        0                      0   \n",
       "3                    1                        0                      0   \n",
       "4                    0                        0                      0   \n",
       "\n",
       "   ohe__Location_Mumbai  ohe__Location_Pune  oe__Education  oe__Occupation  \n",
       "0                     0                   1              0               2  \n",
       "1                     1                   0              2               1  \n",
       "2                     1                   0              0               0  \n",
       "3                     0                   0              0               4  \n",
       "4                     0                   0              1               1  "
      ]
     },
     "execution_count": 8,
     "metadata": {},
     "output_type": "execute_result"
    }
   ],
   "source": [
    "pd.DataFrame(X_train_ct, columns=ct.get_feature_names_out()).head(5)"
   ]
  },
  {
   "cell_type": "code",
   "execution_count": 9,
   "id": "f4699ce0-329f-401c-bfa5-c5e00d7a37bf",
   "metadata": {},
   "outputs": [
    {
     "data": {
      "text/html": [
       "<div>\n",
       "<style scoped>\n",
       "    .dataframe tbody tr th:only-of-type {\n",
       "        vertical-align: middle;\n",
       "    }\n",
       "\n",
       "    .dataframe tbody tr th {\n",
       "        vertical-align: top;\n",
       "    }\n",
       "\n",
       "    .dataframe thead th {\n",
       "        text-align: right;\n",
       "    }\n",
       "</style>\n",
       "<table border=\"1\" class=\"dataframe\">\n",
       "  <thead>\n",
       "    <tr style=\"text-align: right;\">\n",
       "      <th></th>\n",
       "      <th>Gender</th>\n",
       "      <th>Location</th>\n",
       "      <th>Education</th>\n",
       "      <th>Occupation</th>\n",
       "    </tr>\n",
       "  </thead>\n",
       "  <tbody>\n",
       "    <tr>\n",
       "      <th>141</th>\n",
       "      <td>Male</td>\n",
       "      <td>Pune</td>\n",
       "      <td>Postgraduate</td>\n",
       "      <td>Intern</td>\n",
       "    </tr>\n",
       "    <tr>\n",
       "      <th>424</th>\n",
       "      <td>Male</td>\n",
       "      <td>Mumbai</td>\n",
       "      <td>Undergraduate</td>\n",
       "      <td>Freelancer</td>\n",
       "    </tr>\n",
       "    <tr>\n",
       "      <th>282</th>\n",
       "      <td>Male</td>\n",
       "      <td>Mumbai</td>\n",
       "      <td>Postgraduate</td>\n",
       "      <td>Student</td>\n",
       "    </tr>\n",
       "    <tr>\n",
       "      <th>77</th>\n",
       "      <td>Non-binary</td>\n",
       "      <td>Delhi</td>\n",
       "      <td>Postgraduate</td>\n",
       "      <td>Full-time Job</td>\n",
       "    </tr>\n",
       "    <tr>\n",
       "      <th>233</th>\n",
       "      <td>Non-binary</td>\n",
       "      <td>Chennai</td>\n",
       "      <td>Graduate</td>\n",
       "      <td>Freelancer</td>\n",
       "    </tr>\n",
       "  </tbody>\n",
       "</table>\n",
       "</div>"
      ],
      "text/plain": [
       "         Gender Location      Education     Occupation\n",
       "141        Male     Pune   Postgraduate         Intern\n",
       "424        Male   Mumbai  Undergraduate     Freelancer\n",
       "282        Male   Mumbai   Postgraduate        Student\n",
       "77   Non-binary    Delhi   Postgraduate  Full-time Job\n",
       "233  Non-binary  Chennai       Graduate     Freelancer"
      ]
     },
     "execution_count": 9,
     "metadata": {},
     "output_type": "execute_result"
    }
   ],
   "source": [
    "X_train.head(5)"
   ]
  },
  {
   "cell_type": "code",
   "execution_count": null,
   "id": "ce06fa67-f2b8-4e61-9aea-491474c81a23",
   "metadata": {},
   "outputs": [],
   "source": []
  }
 ],
 "metadata": {
  "kernelspec": {
   "display_name": "Python 3 (ipykernel)",
   "language": "python",
   "name": "python3"
  },
  "language_info": {
   "codemirror_mode": {
    "name": "ipython",
    "version": 3
   },
   "file_extension": ".py",
   "mimetype": "text/x-python",
   "name": "python",
   "nbconvert_exporter": "python",
   "pygments_lexer": "ipython3",
   "version": "3.12.8"
  }
 },
 "nbformat": 4,
 "nbformat_minor": 5
}
