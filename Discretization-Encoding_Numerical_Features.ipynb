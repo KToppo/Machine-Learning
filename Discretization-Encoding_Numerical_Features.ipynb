{
 "cells": [
  {
   "cell_type": "code",
   "execution_count": 1,
   "id": "c6298d52-cd73-4532-92aa-e37c8400aa2c",
   "metadata": {},
   "outputs": [],
   "source": [
    "import pandas as pd\n",
    "import numpy as np\n",
    "import matplotlib.pyplot as plt\n",
    "import seaborn as sns\n",
    "from scipy.stats import probplot \n",
    "from kaggle_handler import handler\n",
    "\n",
    "plt.style.use('ggplot')\n",
    "pd.options.display.max_columns = 25"
   ]
  },
  {
   "cell_type": "code",
   "execution_count": 2,
   "id": "9c9d9fef-1c70-4d24-9478-c4fa5acbda48",
   "metadata": {},
   "outputs": [],
   "source": [
    "from sklearn.model_selection import train_test_split, cross_val_score\n",
    "from sklearn.metrics import accuracy_score\n",
    "from sklearn.compose import ColumnTransformer\n",
    "from sklearn.pipeline import Pipeline\n",
    "from sklearn.preprocessing import KBinsDiscretizer, LabelEncoder\n",
    "from sklearn.tree import DecisionTreeClassifier"
   ]
  },
  {
   "cell_type": "markdown",
   "id": "2427ddb0-c288-4dd6-aa44-37a4a519a38e",
   "metadata": {
    "jp-MarkdownHeadingCollapsed": true
   },
   "source": [
    "# Download / Loading Dataset"
   ]
  },
  {
   "cell_type": "code",
   "execution_count": 3,
   "id": "8fe75ae6-ce44-4efe-a3de-4a5351232c5d",
   "metadata": {},
   "outputs": [
    {
     "name": "stdout",
     "output_type": "stream",
     "text": [
      "Directory 'Assets' already exists.\n",
      "Datasets already exist in Assets folder\n",
      "['lung_cancer_prediction_dataset.csv', 'Titanic-Dataset.csv', 'GenZ_DatingApp_Data.csv', 'concrete_data.csv']\n",
      " Change Add_more parameter to download more datasets\n"
     ]
    }
   ],
   "source": [
    "Assets = handler('aizahzeeshan/lung-cancer-risk-in-25-countries')"
   ]
  },
  {
   "cell_type": "code",
   "execution_count": 4,
   "id": "3e19e377-dfea-4e34-9bb9-942c1ef99b71",
   "metadata": {},
   "outputs": [
    {
     "data": {
      "text/plain": [
       "['lung_cancer_prediction_dataset.csv',\n",
       " 'Titanic-Dataset.csv',\n",
       " 'GenZ_DatingApp_Data.csv',\n",
       " 'concrete_data.csv']"
      ]
     },
     "execution_count": 4,
     "metadata": {},
     "output_type": "execute_result"
    }
   ],
   "source": [
    "Assets"
   ]
  },
  {
   "cell_type": "code",
   "execution_count": 5,
   "id": "3385bdfc-248d-4c03-bd34-c442864a9fd9",
   "metadata": {},
   "outputs": [
    {
     "data": {
      "text/html": [
       "<div>\n",
       "<style scoped>\n",
       "    .dataframe tbody tr th:only-of-type {\n",
       "        vertical-align: middle;\n",
       "    }\n",
       "\n",
       "    .dataframe tbody tr th {\n",
       "        vertical-align: top;\n",
       "    }\n",
       "\n",
       "    .dataframe thead th {\n",
       "        text-align: right;\n",
       "    }\n",
       "</style>\n",
       "<table border=\"1\" class=\"dataframe\">\n",
       "  <thead>\n",
       "    <tr style=\"text-align: right;\">\n",
       "      <th></th>\n",
       "      <th>Population_Size</th>\n",
       "      <th>Age</th>\n",
       "      <th>Cigarettes_per_Day</th>\n",
       "      <th>Cancer_Stage</th>\n",
       "      <th>Annual_Lung_Cancer_Deaths</th>\n",
       "    </tr>\n",
       "  </thead>\n",
       "  <tbody>\n",
       "    <tr>\n",
       "      <th>159235</th>\n",
       "      <td>120</td>\n",
       "      <td>55</td>\n",
       "      <td>0</td>\n",
       "      <td>NaN</td>\n",
       "      <td>18000</td>\n",
       "    </tr>\n",
       "    <tr>\n",
       "      <th>215435</th>\n",
       "      <td>113</td>\n",
       "      <td>82</td>\n",
       "      <td>0</td>\n",
       "      <td>NaN</td>\n",
       "      <td>23000</td>\n",
       "    </tr>\n",
       "    <tr>\n",
       "      <th>85378</th>\n",
       "      <td>225</td>\n",
       "      <td>78</td>\n",
       "      <td>27</td>\n",
       "      <td>NaN</td>\n",
       "      <td>30000</td>\n",
       "    </tr>\n",
       "    <tr>\n",
       "      <th>35137</th>\n",
       "      <td>213</td>\n",
       "      <td>76</td>\n",
       "      <td>0</td>\n",
       "      <td>NaN</td>\n",
       "      <td>45000</td>\n",
       "    </tr>\n",
       "    <tr>\n",
       "      <th>166030</th>\n",
       "      <td>54</td>\n",
       "      <td>31</td>\n",
       "      <td>29</td>\n",
       "      <td>NaN</td>\n",
       "      <td>59204</td>\n",
       "    </tr>\n",
       "  </tbody>\n",
       "</table>\n",
       "</div>"
      ],
      "text/plain": [
       "        Population_Size  Age  Cigarettes_per_Day Cancer_Stage  \\\n",
       "159235              120   55                   0          NaN   \n",
       "215435              113   82                   0          NaN   \n",
       "85378               225   78                  27          NaN   \n",
       "35137               213   76                   0          NaN   \n",
       "166030               54   31                  29          NaN   \n",
       "\n",
       "        Annual_Lung_Cancer_Deaths  \n",
       "159235                      18000  \n",
       "215435                      23000  \n",
       "85378                       30000  \n",
       "35137                       45000  \n",
       "166030                      59204  "
      ]
     },
     "execution_count": 5,
     "metadata": {},
     "output_type": "execute_result"
    }
   ],
   "source": [
    "df = pd.read_csv('Assets/lung_cancer_prediction_dataset.csv',\n",
    "                 usecols=['Population_Size','Age','Cigarettes_per_Day','Annual_Lung_Cancer_Deaths','Cancer_Stage'],\n",
    "                dtype={'Population_Size':np.int32,'Age':np.int32,'Cigarettes_per_Day':np.int32,'Annual_Lung_Cancer_Deaths':np.int32,'Cancer_Stage':object})\n",
    "df.sample(5)"
   ]
  },
  {
   "cell_type": "code",
   "execution_count": 6,
   "id": "7cc6adf2-cfd8-4be7-b629-bb2391c0a30b",
   "metadata": {},
   "outputs": [
    {
     "data": {
      "text/plain": [
       "array([nan, 'Stage 1', 'Stage 2', 'Stage 3', 'Stage 4'], dtype=object)"
      ]
     },
     "execution_count": 6,
     "metadata": {},
     "output_type": "execute_result"
    }
   ],
   "source": [
    "df['Cancer_Stage'].unique()"
   ]
  },
  {
   "cell_type": "code",
   "execution_count": 7,
   "id": "12282584-70dd-48e7-b37e-932661e05965",
   "metadata": {},
   "outputs": [
    {
     "data": {
      "text/plain": [
       "(220632, 5)"
      ]
     },
     "execution_count": 7,
     "metadata": {},
     "output_type": "execute_result"
    }
   ],
   "source": [
    "df.shape"
   ]
  },
  {
   "cell_type": "code",
   "execution_count": 8,
   "id": "f7ce5518-1045-40f4-af63-5a6432896189",
   "metadata": {},
   "outputs": [
    {
     "data": {
      "text/plain": [
       "Population_Size                   0\n",
       "Age                               0\n",
       "Cigarettes_per_Day                0\n",
       "Cancer_Stage                 211671\n",
       "Annual_Lung_Cancer_Deaths         0\n",
       "dtype: int64"
      ]
     },
     "execution_count": 8,
     "metadata": {},
     "output_type": "execute_result"
    }
   ],
   "source": [
    "df.isna().sum()"
   ]
  },
  {
   "cell_type": "code",
   "execution_count": 9,
   "id": "d5b3620f-760d-4395-a21c-79274497826b",
   "metadata": {},
   "outputs": [
    {
     "data": {
      "text/plain": [
       "array([nan, 'Stage 1', 'Stage 2', 'Stage 3', 'Stage 4'], dtype=object)"
      ]
     },
     "execution_count": 9,
     "metadata": {},
     "output_type": "execute_result"
    }
   ],
   "source": [
    "df['Cancer_Stage'].unique()"
   ]
  },
  {
   "cell_type": "code",
   "execution_count": 10,
   "id": "eb8de4e2-7d8c-4e9d-a1b1-f3ac99839376",
   "metadata": {},
   "outputs": [],
   "source": [
    "df.dropna(subset=['Cancer_Stage'],axis=0,inplace=True)"
   ]
  },
  {
   "cell_type": "markdown",
   "id": "1a62e925-71d8-4915-a8fc-82a8da57ff0c",
   "metadata": {
    "jp-MarkdownHeadingCollapsed": true
   },
   "source": [
    "# Split Dataset"
   ]
  },
  {
   "cell_type": "code",
   "execution_count": 11,
   "id": "5dd5e0a9-d574-46a5-b95b-4d9f7aaab6df",
   "metadata": {},
   "outputs": [],
   "source": [
    "X = df.drop(columns=['Cancer_Stage'])\n",
    "y = df['Cancer_Stage']"
   ]
  },
  {
   "cell_type": "code",
   "execution_count": 12,
   "id": "e91a2a13-118f-4cba-ad29-0d2b8592dcca",
   "metadata": {},
   "outputs": [
    {
     "data": {
      "text/plain": [
       "((7168, 4), (7168,), (1793, 4), (1793,))"
      ]
     },
     "execution_count": 12,
     "metadata": {},
     "output_type": "execute_result"
    }
   ],
   "source": [
    "X_train,X_test,y_train,y_test = train_test_split(X,y,test_size=.2,shuffle=True)\n",
    "X_train.shape,y_train.shape,X_test.shape,y_test.shape"
   ]
  },
  {
   "cell_type": "markdown",
   "id": "eb5941e9-d603-482a-9a16-d62e7298c09f",
   "metadata": {
    "jp-MarkdownHeadingCollapsed": true
   },
   "source": [
    "# Diclaring KBinsDiscretizer Transformation\n",
    "- ColumnTransformer, KBinsDiscretizer, LabelEncoder"
   ]
  },
  {
   "cell_type": "code",
   "execution_count": 13,
   "id": "6ccc4351-25d9-40ad-9778-6a8b05f26263",
   "metadata": {},
   "outputs": [],
   "source": [
    "ct = ColumnTransformer(transformers=[('trf1',KBinsDiscretizer(n_bins=3,\n",
    "                                                              encode='ordinal',\n",
    "                                                              strategy='quantile'),\n",
    "                                      ['Population_Size','Annual_Lung_Cancer_Deaths']),\n",
    "                                    ('trf2',KBinsDiscretizer(n_bins=10,\n",
    "                                                             # encode='onehot',\n",
    "                                                             encode='onehot-dense',\n",
    "                                                             strategy='uniform'),\n",
    "                                     ['Age']),\n",
    "                                    ('trf3',KBinsDiscretizer(n_bins=10,\n",
    "                                                             encode='ordinal',\n",
    "                                                             strategy='kmeans'),\n",
    "                                     ['Cigarettes_per_Day'])],\n",
    "                       remainder='passthrough')\n",
    "\n",
    "le = LabelEncoder()"
   ]
  },
  {
   "cell_type": "markdown",
   "id": "a63256fa-68c9-4f8d-89cf-ac011f5638e5",
   "metadata": {
    "jp-MarkdownHeadingCollapsed": true
   },
   "source": [
    "# Transforming Dataset"
   ]
  },
  {
   "cell_type": "code",
   "execution_count": 14,
   "id": "fc19aaa8-48e1-47d1-8548-0071189dd88d",
   "metadata": {},
   "outputs": [
    {
     "data": {
      "text/plain": [
       "((7168, 13), (7168,))"
      ]
     },
     "execution_count": 14,
     "metadata": {},
     "output_type": "execute_result"
    }
   ],
   "source": [
    "X_train_ct = ct.fit_transform(X_train)\n",
    "X_test_ct = ct.transform(X_test)\n",
    "y_train_le = le.fit_transform(y_train)\n",
    "y_test_le = le.transform(y_test)\n",
    "\n",
    "X_train_ct.shape, y_train_le.shape"
   ]
  },
  {
   "cell_type": "markdown",
   "id": "96fe4b30-55e3-44c0-b2b7-12fa565b31cc",
   "metadata": {
    "jp-MarkdownHeadingCollapsed": true
   },
   "source": [
    "# Transformed Data Info"
   ]
  },
  {
   "cell_type": "code",
   "execution_count": 15,
   "id": "ee2a4b70-cd6d-40ed-a824-56c2ee847b82",
   "metadata": {},
   "outputs": [
    {
     "data": {
      "text/plain": [
       "array(['Stage 1', 'Stage 2', 'Stage 3', 'Stage 4'], dtype=object)"
      ]
     },
     "execution_count": 15,
     "metadata": {},
     "output_type": "execute_result"
    }
   ],
   "source": [
    "le.classes_"
   ]
  },
  {
   "cell_type": "code",
   "execution_count": 16,
   "id": "37530373-5703-4d89-a359-beed578d3c02",
   "metadata": {},
   "outputs": [
    {
     "data": {
      "text/plain": [
       "array([array([  54.,   85.,  145., 1400.]),\n",
       "       array([ 10230.,  25000.,  40000., 690000.])], dtype=object)"
      ]
     },
     "execution_count": 16,
     "metadata": {},
     "output_type": "execute_result"
    }
   ],
   "source": [
    "ct.named_transformers_['trf1'].bin_edges_"
   ]
  },
  {
   "cell_type": "code",
   "execution_count": 17,
   "id": "973480d1-8c6c-47b0-9a0b-318e83c60442",
   "metadata": {},
   "outputs": [
    {
     "data": {
      "text/plain": [
       "array([20. , 26.5, 33. , 39.5, 46. , 52.5, 59. , 65.5, 72. , 78.5, 85. ])"
      ]
     },
     "execution_count": 17,
     "metadata": {},
     "output_type": "execute_result"
    }
   ],
   "source": [
    "ct.named_transformers_['trf2'].bin_edges_[0]"
   ]
  },
  {
   "cell_type": "code",
   "execution_count": 18,
   "id": "3f21abdb-27cf-4956-a196-610bf779a0f1",
   "metadata": {},
   "outputs": [
    {
     "data": {
      "text/plain": [
       "array([ 0.        ,  2.74089636,  6.74574289,  9.50484653, 12.23039216,\n",
       "       14.73842787, 17.48975273, 20.74040964, 24.02042102, 26.9985705 ,\n",
       "       30.        ])"
      ]
     },
     "execution_count": 18,
     "metadata": {},
     "output_type": "execute_result"
    }
   ],
   "source": [
    "ct.named_transformers_['trf3'].bin_edges_[0]"
   ]
  },
  {
   "cell_type": "markdown",
   "id": "29b01b21-101a-498a-a7d0-11e0f95c02e1",
   "metadata": {
    "jp-MarkdownHeadingCollapsed": true
   },
   "source": [
    "# Transformed DataFrame"
   ]
  },
  {
   "cell_type": "code",
   "execution_count": 19,
   "id": "a67e27b7-2965-4a5d-9eb9-4d1505cd8e74",
   "metadata": {},
   "outputs": [
    {
     "data": {
      "text/html": [
       "<div>\n",
       "<style scoped>\n",
       "    .dataframe tbody tr th:only-of-type {\n",
       "        vertical-align: middle;\n",
       "    }\n",
       "\n",
       "    .dataframe tbody tr th {\n",
       "        vertical-align: top;\n",
       "    }\n",
       "\n",
       "    .dataframe thead th {\n",
       "        text-align: right;\n",
       "    }\n",
       "</style>\n",
       "<table border=\"1\" class=\"dataframe\">\n",
       "  <thead>\n",
       "    <tr style=\"text-align: right;\">\n",
       "      <th></th>\n",
       "      <th>Population_Size</th>\n",
       "      <th>Annual_Lung_Cancer_Deaths</th>\n",
       "      <th>20.0-26.5</th>\n",
       "      <th>26.5-33.0</th>\n",
       "      <th>33.0-39.5</th>\n",
       "      <th>39.5-46.0</th>\n",
       "      <th>46.0-52.5</th>\n",
       "      <th>52.5-59.0</th>\n",
       "      <th>59.0-65.5</th>\n",
       "      <th>65.5-72.0</th>\n",
       "      <th>72.0-78.5</th>\n",
       "      <th>78.5-85.0</th>\n",
       "      <th>Cigarettes_per_Day</th>\n",
       "    </tr>\n",
       "  </thead>\n",
       "  <tbody>\n",
       "    <tr>\n",
       "      <th>0</th>\n",
       "      <td>1.0</td>\n",
       "      <td>2.0</td>\n",
       "      <td>0.0</td>\n",
       "      <td>0.0</td>\n",
       "      <td>0.0</td>\n",
       "      <td>0.0</td>\n",
       "      <td>0.0</td>\n",
       "      <td>0.0</td>\n",
       "      <td>0.0</td>\n",
       "      <td>0.0</td>\n",
       "      <td>0.0</td>\n",
       "      <td>1.0</td>\n",
       "      <td>1.0</td>\n",
       "    </tr>\n",
       "    <tr>\n",
       "      <th>1</th>\n",
       "      <td>0.0</td>\n",
       "      <td>1.0</td>\n",
       "      <td>0.0</td>\n",
       "      <td>0.0</td>\n",
       "      <td>0.0</td>\n",
       "      <td>0.0</td>\n",
       "      <td>0.0</td>\n",
       "      <td>0.0</td>\n",
       "      <td>1.0</td>\n",
       "      <td>0.0</td>\n",
       "      <td>0.0</td>\n",
       "      <td>0.0</td>\n",
       "      <td>7.0</td>\n",
       "    </tr>\n",
       "    <tr>\n",
       "      <th>2</th>\n",
       "      <td>2.0</td>\n",
       "      <td>2.0</td>\n",
       "      <td>0.0</td>\n",
       "      <td>0.0</td>\n",
       "      <td>0.0</td>\n",
       "      <td>0.0</td>\n",
       "      <td>1.0</td>\n",
       "      <td>0.0</td>\n",
       "      <td>0.0</td>\n",
       "      <td>0.0</td>\n",
       "      <td>0.0</td>\n",
       "      <td>0.0</td>\n",
       "      <td>0.0</td>\n",
       "    </tr>\n",
       "  </tbody>\n",
       "</table>\n",
       "</div>"
      ],
      "text/plain": [
       "   Population_Size  Annual_Lung_Cancer_Deaths  20.0-26.5  26.5-33.0  \\\n",
       "0              1.0                        2.0        0.0        0.0   \n",
       "1              0.0                        1.0        0.0        0.0   \n",
       "2              2.0                        2.0        0.0        0.0   \n",
       "\n",
       "   33.0-39.5  39.5-46.0  46.0-52.5  52.5-59.0  59.0-65.5  65.5-72.0  \\\n",
       "0        0.0        0.0        0.0        0.0        0.0        0.0   \n",
       "1        0.0        0.0        0.0        0.0        1.0        0.0   \n",
       "2        0.0        0.0        1.0        0.0        0.0        0.0   \n",
       "\n",
       "   72.0-78.5  78.5-85.0  Cigarettes_per_Day  \n",
       "0        0.0        1.0                 1.0  \n",
       "1        0.0        0.0                 7.0  \n",
       "2        0.0        0.0                 0.0  "
      ]
     },
     "execution_count": 19,
     "metadata": {},
     "output_type": "execute_result"
    }
   ],
   "source": [
    "pd.DataFrame(X_train_ct,columns=['Population_Size','Annual_Lung_Cancer_Deaths',\n",
    "                                 '20.0-26.5','26.5-33.0','33.0-39.5','39.5-46.0','46.0-52.5',\n",
    "                                 '52.5-59.0','59.0-65.5','65.5-72.0','72.0-78.5','78.5-85.0',\n",
    "                                 'Cigarettes_per_Day']).head(3)"
   ]
  },
  {
   "cell_type": "code",
   "execution_count": 20,
   "id": "2b50d8eb-5b85-4e28-aa0a-7679ec68ca9d",
   "metadata": {},
   "outputs": [
    {
     "data": {
      "text/html": [
       "<div>\n",
       "<style scoped>\n",
       "    .dataframe tbody tr th:only-of-type {\n",
       "        vertical-align: middle;\n",
       "    }\n",
       "\n",
       "    .dataframe tbody tr th {\n",
       "        vertical-align: top;\n",
       "    }\n",
       "\n",
       "    .dataframe thead th {\n",
       "        text-align: right;\n",
       "    }\n",
       "</style>\n",
       "<table border=\"1\" class=\"dataframe\">\n",
       "  <thead>\n",
       "    <tr style=\"text-align: right;\">\n",
       "      <th></th>\n",
       "      <th>Cancer_Stage</th>\n",
       "    </tr>\n",
       "  </thead>\n",
       "  <tbody>\n",
       "    <tr>\n",
       "      <th>0</th>\n",
       "      <td>2</td>\n",
       "    </tr>\n",
       "    <tr>\n",
       "      <th>1</th>\n",
       "      <td>0</td>\n",
       "    </tr>\n",
       "    <tr>\n",
       "      <th>2</th>\n",
       "      <td>3</td>\n",
       "    </tr>\n",
       "  </tbody>\n",
       "</table>\n",
       "</div>"
      ],
      "text/plain": [
       "   Cancer_Stage\n",
       "0             2\n",
       "1             0\n",
       "2             3"
      ]
     },
     "execution_count": 20,
     "metadata": {},
     "output_type": "execute_result"
    }
   ],
   "source": [
    "pd.DataFrame(y_train_le,columns=['Cancer_Stage']).head(3)"
   ]
  },
  {
   "cell_type": "code",
   "execution_count": 21,
   "id": "f9f4cc0f-43dc-4392-a5b6-682470e3f598",
   "metadata": {},
   "outputs": [
    {
     "data": {
      "text/html": [
       "<div>\n",
       "<style scoped>\n",
       "    .dataframe tbody tr th:only-of-type {\n",
       "        vertical-align: middle;\n",
       "    }\n",
       "\n",
       "    .dataframe tbody tr th {\n",
       "        vertical-align: top;\n",
       "    }\n",
       "\n",
       "    .dataframe thead th {\n",
       "        text-align: right;\n",
       "    }\n",
       "</style>\n",
       "<table border=\"1\" class=\"dataframe\">\n",
       "  <thead>\n",
       "    <tr style=\"text-align: right;\">\n",
       "      <th></th>\n",
       "      <th>Population_Size</th>\n",
       "      <th>Age</th>\n",
       "      <th>Cigarettes_per_Day</th>\n",
       "      <th>Annual_Lung_Cancer_Deaths</th>\n",
       "    </tr>\n",
       "  </thead>\n",
       "  <tbody>\n",
       "    <tr>\n",
       "      <th>3022</th>\n",
       "      <td>125</td>\n",
       "      <td>83</td>\n",
       "      <td>6</td>\n",
       "      <td>75000</td>\n",
       "    </tr>\n",
       "    <tr>\n",
       "      <th>98366</th>\n",
       "      <td>70</td>\n",
       "      <td>61</td>\n",
       "      <td>24</td>\n",
       "      <td>26000</td>\n",
       "    </tr>\n",
       "    <tr>\n",
       "      <th>100975</th>\n",
       "      <td>1380</td>\n",
       "      <td>51</td>\n",
       "      <td>0</td>\n",
       "      <td>70000</td>\n",
       "    </tr>\n",
       "  </tbody>\n",
       "</table>\n",
       "</div>"
      ],
      "text/plain": [
       "        Population_Size  Age  Cigarettes_per_Day  Annual_Lung_Cancer_Deaths\n",
       "3022                125   83                   6                      75000\n",
       "98366                70   61                  24                      26000\n",
       "100975             1380   51                   0                      70000"
      ]
     },
     "execution_count": 21,
     "metadata": {},
     "output_type": "execute_result"
    }
   ],
   "source": [
    "X_train.head(3)"
   ]
  },
  {
   "cell_type": "markdown",
   "id": "f98af98a-709a-42f2-b468-f4633b4f4746",
   "metadata": {
    "jp-MarkdownHeadingCollapsed": true
   },
   "source": [
    "# Traning Dataset without Transformation"
   ]
  },
  {
   "cell_type": "code",
   "execution_count": 22,
   "id": "b6c8d04a-d7e7-44d5-a439-c08a8ebb19cb",
   "metadata": {},
   "outputs": [
    {
     "data": {
      "text/plain": [
       "np.float64(0.245)"
      ]
     },
     "execution_count": 22,
     "metadata": {},
     "output_type": "execute_result"
    }
   ],
   "source": [
    "dtc = DecisionTreeClassifier()\n",
    "dtc.fit(X_train,y_train_le)\n",
    "y_pred = dtc.predict(X_test)\n",
    "np.round(accuracy_score(y_true=y_test_le,y_pred=y_pred),3)"
   ]
  },
  {
   "cell_type": "markdown",
   "id": "04410373-8c9e-4521-a828-3320a91abb43",
   "metadata": {},
   "source": [
    "## Cross Velidation Score"
   ]
  },
  {
   "cell_type": "code",
   "execution_count": 23,
   "id": "86203159-80fb-43da-a646-7d75144abef9",
   "metadata": {},
   "outputs": [
    {
     "data": {
      "text/plain": [
       "np.float64(0.253)"
      ]
     },
     "execution_count": 23,
     "metadata": {},
     "output_type": "execute_result"
    }
   ],
   "source": [
    "dtc = DecisionTreeClassifier()\n",
    "\n",
    "np.round(cross_val_score(dtc,X,LabelEncoder().fit_transform(y),cv=30).mean(),3)"
   ]
  },
  {
   "cell_type": "markdown",
   "id": "80a03b0d-46b7-4d91-8753-a21be6232d05",
   "metadata": {
    "jp-MarkdownHeadingCollapsed": true
   },
   "source": [
    "# Traning Dataset With Transformation"
   ]
  },
  {
   "cell_type": "code",
   "execution_count": 24,
   "id": "48020468-5bd2-4c68-85b6-7e4e9fd3f729",
   "metadata": {},
   "outputs": [
    {
     "data": {
      "text/plain": [
       "np.float64(0.273)"
      ]
     },
     "execution_count": 24,
     "metadata": {},
     "output_type": "execute_result"
    }
   ],
   "source": [
    "dtc = DecisionTreeClassifier()\n",
    "dtc.fit(np.delete(X_train_ct,2,axis=1),y_train_le)\n",
    "y_pred = dtc.predict(np.delete(X_test_ct,2,axis=1))\n",
    "np.round(accuracy_score(y_true=y_test_le,y_pred=y_pred),3)"
   ]
  },
  {
   "cell_type": "markdown",
   "id": "1a47a4bb-bafc-4b59-859a-535839af729d",
   "metadata": {},
   "source": [
    "## Cross Velidation Score"
   ]
  },
  {
   "cell_type": "code",
   "execution_count": 25,
   "id": "4fc43c56-550e-4c9e-907a-fa6a1bde6b1b",
   "metadata": {},
   "outputs": [
    {
     "data": {
      "text/plain": [
       "np.float64(0.257)"
      ]
     },
     "execution_count": 25,
     "metadata": {},
     "output_type": "execute_result"
    }
   ],
   "source": [
    "dtc = DecisionTreeClassifier()\n",
    "\n",
    "np.round(cross_val_score(dtc,\n",
    "                np.delete(ct.fit_transform(X),2,axis=1),\n",
    "                LabelEncoder().fit_transform(y),cv=30).mean(),3)"
   ]
  },
  {
   "cell_type": "markdown",
   "id": "9e94c89c-3ac5-45fe-89ec-ad020276086c",
   "metadata": {
    "jp-MarkdownHeadingCollapsed": true
   },
   "source": [
    "# Typers of Outcome"
   ]
  },
  {
   "cell_type": "code",
   "execution_count": 26,
   "id": "db3006e3-424c-4fcd-b58f-9e8505b221c9",
   "metadata": {},
   "outputs": [
    {
     "data": {
      "text/plain": [
       "array([1, 0, 3, 2])"
      ]
     },
     "execution_count": 26,
     "metadata": {},
     "output_type": "execute_result"
    }
   ],
   "source": [
    "pd.DataFrame(y_pred)[0].unique()"
   ]
  }
 ],
 "metadata": {
  "kernelspec": {
   "display_name": "Python 3 (ipykernel)",
   "language": "python",
   "name": "python3"
  },
  "language_info": {
   "codemirror_mode": {
    "name": "ipython",
    "version": 3
   },
   "file_extension": ".py",
   "mimetype": "text/x-python",
   "name": "python",
   "nbconvert_exporter": "python",
   "pygments_lexer": "ipython3",
   "version": "3.12.8"
  }
 },
 "nbformat": 4,
 "nbformat_minor": 5
}
