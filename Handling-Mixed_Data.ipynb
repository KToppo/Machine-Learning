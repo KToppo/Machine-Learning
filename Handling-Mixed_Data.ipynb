{
 "cells": [
  {
   "cell_type": "code",
   "execution_count": 1,
   "id": "ce310ff4-4666-4c8e-9295-dd1b7ed63bff",
   "metadata": {},
   "outputs": [],
   "source": [
    "from kaggle_handler import handler\n",
    "import pandas as pd\n",
    "import numpy as np"
   ]
  },
  {
   "cell_type": "code",
   "execution_count": 2,
   "id": "6513275c-1d06-4916-8c28-b94c28c26140",
   "metadata": {},
   "outputs": [
    {
     "name": "stdout",
     "output_type": "stream",
     "text": [
      "Directory 'Assets' already exists.\n",
      "Datasets already exist in Assets folder\n",
      "['lung_cancer_prediction_dataset.csv', 'Titanic-Dataset.csv', 'GenZ_DatingApp_Data.csv', 'concrete_data.csv']\n",
      " Change Add_more parameter to download more datasets\n"
     ]
    }
   ],
   "source": [
    "Assets = handler()"
   ]
  },
  {
   "cell_type": "code",
   "execution_count": 3,
   "id": "bdc297e8-8a5d-4337-8b3c-532ee7817f23",
   "metadata": {},
   "outputs": [
    {
     "data": {
      "text/plain": [
       "['lung_cancer_prediction_dataset.csv',\n",
       " 'Titanic-Dataset.csv',\n",
       " 'GenZ_DatingApp_Data.csv',\n",
       " 'concrete_data.csv']"
      ]
     },
     "execution_count": 3,
     "metadata": {},
     "output_type": "execute_result"
    }
   ],
   "source": [
    "Assets"
   ]
  },
  {
   "cell_type": "code",
   "execution_count": 4,
   "id": "49a4d846-479f-4c26-a8e5-97bc83cb414a",
   "metadata": {},
   "outputs": [
    {
     "data": {
      "text/html": [
       "<div>\n",
       "<style scoped>\n",
       "    .dataframe tbody tr th:only-of-type {\n",
       "        vertical-align: middle;\n",
       "    }\n",
       "\n",
       "    .dataframe tbody tr th {\n",
       "        vertical-align: top;\n",
       "    }\n",
       "\n",
       "    .dataframe thead th {\n",
       "        text-align: right;\n",
       "    }\n",
       "</style>\n",
       "<table border=\"1\" class=\"dataframe\">\n",
       "  <thead>\n",
       "    <tr style=\"text-align: right;\">\n",
       "      <th></th>\n",
       "      <th>Ticket</th>\n",
       "      <th>Cabin</th>\n",
       "    </tr>\n",
       "  </thead>\n",
       "  <tbody>\n",
       "    <tr>\n",
       "      <th>570</th>\n",
       "      <td>S.W./PP 752</td>\n",
       "      <td>NaN</td>\n",
       "    </tr>\n",
       "    <tr>\n",
       "      <th>650</th>\n",
       "      <td>349221</td>\n",
       "      <td>NaN</td>\n",
       "    </tr>\n",
       "    <tr>\n",
       "      <th>580</th>\n",
       "      <td>237789</td>\n",
       "      <td>NaN</td>\n",
       "    </tr>\n",
       "    <tr>\n",
       "      <th>17</th>\n",
       "      <td>244373</td>\n",
       "      <td>NaN</td>\n",
       "    </tr>\n",
       "    <tr>\n",
       "      <th>666</th>\n",
       "      <td>234686</td>\n",
       "      <td>NaN</td>\n",
       "    </tr>\n",
       "  </tbody>\n",
       "</table>\n",
       "</div>"
      ],
      "text/plain": [
       "          Ticket Cabin\n",
       "570  S.W./PP 752   NaN\n",
       "650       349221   NaN\n",
       "580       237789   NaN\n",
       "17        244373   NaN\n",
       "666       234686   NaN"
      ]
     },
     "execution_count": 4,
     "metadata": {},
     "output_type": "execute_result"
    }
   ],
   "source": [
    "df = pd.read_csv('Assets/Titanic-Dataset.csv', usecols=[\"Ticket\",\"Cabin\"])\n",
    "df.sample(5)"
   ]
  },
  {
   "cell_type": "code",
   "execution_count": 5,
   "id": "ca197359-f500-41d3-81e5-f9bd0865c325",
   "metadata": {},
   "outputs": [],
   "source": [
    "df.dropna(inplace=True,ignore_index=True)"
   ]
  },
  {
   "cell_type": "code",
   "execution_count": 6,
   "id": "2cb617a6-9cdd-40dc-91ca-2dc62a8886e0",
   "metadata": {},
   "outputs": [
    {
     "data": {
      "text/html": [
       "<div>\n",
       "<style scoped>\n",
       "    .dataframe tbody tr th:only-of-type {\n",
       "        vertical-align: middle;\n",
       "    }\n",
       "\n",
       "    .dataframe tbody tr th {\n",
       "        vertical-align: top;\n",
       "    }\n",
       "\n",
       "    .dataframe thead th {\n",
       "        text-align: right;\n",
       "    }\n",
       "</style>\n",
       "<table border=\"1\" class=\"dataframe\">\n",
       "  <thead>\n",
       "    <tr style=\"text-align: right;\">\n",
       "      <th></th>\n",
       "      <th>Ticket</th>\n",
       "      <th>Cabin</th>\n",
       "    </tr>\n",
       "  </thead>\n",
       "  <tbody>\n",
       "    <tr>\n",
       "      <th>161</th>\n",
       "      <td>113028</td>\n",
       "      <td>C124</td>\n",
       "    </tr>\n",
       "    <tr>\n",
       "      <th>160</th>\n",
       "      <td>PC 17482</td>\n",
       "      <td>C90</td>\n",
       "    </tr>\n",
       "    <tr>\n",
       "      <th>201</th>\n",
       "      <td>11767</td>\n",
       "      <td>C50</td>\n",
       "    </tr>\n",
       "    <tr>\n",
       "      <th>133</th>\n",
       "      <td>110413</td>\n",
       "      <td>E68</td>\n",
       "    </tr>\n",
       "    <tr>\n",
       "      <th>150</th>\n",
       "      <td>F.C. 12750</td>\n",
       "      <td>B71</td>\n",
       "    </tr>\n",
       "  </tbody>\n",
       "</table>\n",
       "</div>"
      ],
      "text/plain": [
       "         Ticket Cabin\n",
       "161      113028  C124\n",
       "160    PC 17482   C90\n",
       "201       11767   C50\n",
       "133      110413   E68\n",
       "150  F.C. 12750   B71"
      ]
     },
     "execution_count": 6,
     "metadata": {},
     "output_type": "execute_result"
    }
   ],
   "source": [
    "df.sample(5)"
   ]
  },
  {
   "cell_type": "code",
   "execution_count": 7,
   "id": "761146b0-3c36-4005-8691-b262948eeac9",
   "metadata": {},
   "outputs": [],
   "source": [
    "df['Ticket_number'] = df['Ticket'].apply(lambda val: pd.to_numeric(val.split(),errors='coerce',downcast='integer'))\n",
    "df['Ticket_number'] = df['Ticket_number'].apply(lambda val: val[0] if len(val)==1 else val[1] if len(val)==2 else val[2])\n",
    "df['Ticket_number'] = df['Ticket_number'].astype('int32')"
   ]
  },
  {
   "cell_type": "code",
   "execution_count": 8,
   "id": "8d1216da-0d92-4b6a-8587-2ca993194f4a",
   "metadata": {},
   "outputs": [
    {
     "name": "stderr",
     "output_type": "stream",
     "text": [
      "/tmp/ipykernel_169488/4021208687.py:2: FutureWarning: Series.__getitem__ treating keys as positions is deprecated. In a future version, integer keys will always be treated as labels (consistent with DataFrame behavior). To access a value by position, use `ser.iloc[pos]`\n",
      "  df['Ticket_code'] = df[['Ticket_code','Ticket_number']].apply(lambda x: x[0][0] if x[0][0]!=str(int(x[1])) else np.nan, axis=1)\n"
     ]
    },
    {
     "data": {
      "text/plain": [
       "array(['PC', nan, 'PP', 'C.A.', 'W.E.P.', 'SC/Paris', 'SOTON/O.Q.',\n",
       "       'SC/AH', 'WE/P', 'F.C.', 'S.O./P.P.'], dtype=object)"
      ]
     },
     "execution_count": 8,
     "metadata": {},
     "output_type": "execute_result"
    }
   ],
   "source": [
    "df['Ticket_code'] = df['Ticket'].str.split()\n",
    "df['Ticket_code'] = df[['Ticket_code','Ticket_number']].apply(lambda x: x[0][0] if x[0][0]!=str(int(x[1])) else np.nan, axis=1)\n",
    "df['Ticket_code'].unique()"
   ]
  },
  {
   "cell_type": "code",
   "execution_count": 9,
   "id": "890dd6d4-1a34-4562-8e45-0757ec65ba6f",
   "metadata": {},
   "outputs": [
    {
     "data": {
      "text/html": [
       "<div>\n",
       "<style scoped>\n",
       "    .dataframe tbody tr th:only-of-type {\n",
       "        vertical-align: middle;\n",
       "    }\n",
       "\n",
       "    .dataframe tbody tr th {\n",
       "        vertical-align: top;\n",
       "    }\n",
       "\n",
       "    .dataframe thead th {\n",
       "        text-align: right;\n",
       "    }\n",
       "</style>\n",
       "<table border=\"1\" class=\"dataframe\">\n",
       "  <thead>\n",
       "    <tr style=\"text-align: right;\">\n",
       "      <th></th>\n",
       "      <th>Ticket</th>\n",
       "      <th>Cabin</th>\n",
       "      <th>Ticket_number</th>\n",
       "      <th>Ticket_code</th>\n",
       "    </tr>\n",
       "  </thead>\n",
       "  <tbody>\n",
       "    <tr>\n",
       "      <th>134</th>\n",
       "      <td>13567</td>\n",
       "      <td>B41</td>\n",
       "      <td>13567</td>\n",
       "      <td>NaN</td>\n",
       "    </tr>\n",
       "    <tr>\n",
       "      <th>153</th>\n",
       "      <td>24160</td>\n",
       "      <td>B5</td>\n",
       "      <td>24160</td>\n",
       "      <td>NaN</td>\n",
       "    </tr>\n",
       "    <tr>\n",
       "      <th>109</th>\n",
       "      <td>11771</td>\n",
       "      <td>B37</td>\n",
       "      <td>11771</td>\n",
       "      <td>NaN</td>\n",
       "    </tr>\n",
       "    <tr>\n",
       "      <th>111</th>\n",
       "      <td>36947</td>\n",
       "      <td>D20</td>\n",
       "      <td>36947</td>\n",
       "      <td>NaN</td>\n",
       "    </tr>\n",
       "    <tr>\n",
       "      <th>80</th>\n",
       "      <td>19950</td>\n",
       "      <td>C23 C25 C27</td>\n",
       "      <td>19950</td>\n",
       "      <td>NaN</td>\n",
       "    </tr>\n",
       "  </tbody>\n",
       "</table>\n",
       "</div>"
      ],
      "text/plain": [
       "    Ticket        Cabin  Ticket_number Ticket_code\n",
       "134  13567          B41          13567         NaN\n",
       "153  24160           B5          24160         NaN\n",
       "109  11771          B37          11771         NaN\n",
       "111  36947          D20          36947         NaN\n",
       "80   19950  C23 C25 C27          19950         NaN"
      ]
     },
     "execution_count": 9,
     "metadata": {},
     "output_type": "execute_result"
    }
   ],
   "source": [
    "df.sample(5)"
   ]
  },
  {
   "cell_type": "code",
   "execution_count": 10,
   "id": "2cdf7b7a-1b0e-4e10-b4e6-f8570cb4e9fa",
   "metadata": {},
   "outputs": [],
   "source": [
    "df['Cabin_list'] = df['Cabin'].str.split(r'(\\d+)')\n",
    "# df['Cabin_list'] = df['Cabin'].apply(lambda val: list(val))\n",
    "df['Cabin_number'] = df['Cabin_list'].apply(lambda val: pd.to_numeric(val,errors='coerce',downcast='float'))\n",
    "df['Cabin_number'] = df['Cabin_number'].apply(np.nan_to_num)\n",
    "df['Cabin_number'] = df['Cabin_number'].apply(lambda val: [i for i in val if i!=0.0])\n",
    "df['Cabin_number'] = df['Cabin_number'].apply(lambda val: val[0] if val!=[] else np.nan)"
   ]
  },
  {
   "cell_type": "code",
   "execution_count": 11,
   "id": "8a35c9c7-e0cf-42c7-9aae-b4b6a2b65eb1",
   "metadata": {},
   "outputs": [
    {
     "name": "stderr",
     "output_type": "stream",
     "text": [
      "/tmp/ipykernel_169488/2102975219.py:1: FutureWarning: Series.__getitem__ treating keys as positions is deprecated. In a future version, integer keys will always be treated as labels (consistent with DataFrame behavior). To access a value by position, use `ser.iloc[pos]`\n",
      "  df['Cabin_code'] = df[['Cabin_list','Cabin_number']].apply(lambda x: x[0][0] if isinstance(x[0][0],(str)) else np.nan, axis=1)\n"
     ]
    },
    {
     "data": {
      "text/plain": [
       "array(['C', 'E', 'G', 'D', 'A', 'B', 'F', 'F G', 'F E', 'T'], dtype=object)"
      ]
     },
     "execution_count": 11,
     "metadata": {},
     "output_type": "execute_result"
    }
   ],
   "source": [
    "df['Cabin_code'] = df[['Cabin_list','Cabin_number']].apply(lambda x: x[0][0] if isinstance(x[0][0],(str)) else np.nan, axis=1)\n",
    "df['Cabin_code'].unique()"
   ]
  },
  {
   "cell_type": "code",
   "execution_count": 12,
   "id": "c4dda9be-97db-4ff2-92c9-a50719805abe",
   "metadata": {},
   "outputs": [],
   "source": [
    "df.drop(columns=['Cabin_list'], inplace=True)"
   ]
  },
  {
   "cell_type": "code",
   "execution_count": 13,
   "id": "4591f3c9-a36a-47e8-bff6-500ae6bbfaad",
   "metadata": {},
   "outputs": [
    {
     "data": {
      "text/html": [
       "<div>\n",
       "<style scoped>\n",
       "    .dataframe tbody tr th:only-of-type {\n",
       "        vertical-align: middle;\n",
       "    }\n",
       "\n",
       "    .dataframe tbody tr th {\n",
       "        vertical-align: top;\n",
       "    }\n",
       "\n",
       "    .dataframe thead th {\n",
       "        text-align: right;\n",
       "    }\n",
       "</style>\n",
       "<table border=\"1\" class=\"dataframe\">\n",
       "  <thead>\n",
       "    <tr style=\"text-align: right;\">\n",
       "      <th></th>\n",
       "      <th>Ticket</th>\n",
       "      <th>Cabin</th>\n",
       "      <th>Ticket_number</th>\n",
       "      <th>Ticket_code</th>\n",
       "      <th>Cabin_number</th>\n",
       "      <th>Cabin_code</th>\n",
       "    </tr>\n",
       "  </thead>\n",
       "  <tbody>\n",
       "    <tr>\n",
       "      <th>88</th>\n",
       "      <td>113760</td>\n",
       "      <td>B96 B98</td>\n",
       "      <td>113760</td>\n",
       "      <td>NaN</td>\n",
       "      <td>96.0</td>\n",
       "      <td>B</td>\n",
       "    </tr>\n",
       "    <tr>\n",
       "      <th>113</th>\n",
       "      <td>110152</td>\n",
       "      <td>B79</td>\n",
       "      <td>110152</td>\n",
       "      <td>NaN</td>\n",
       "      <td>79.0</td>\n",
       "      <td>B</td>\n",
       "    </tr>\n",
       "    <tr>\n",
       "      <th>90</th>\n",
       "      <td>PP 9549</td>\n",
       "      <td>G6</td>\n",
       "      <td>9549</td>\n",
       "      <td>PP</td>\n",
       "      <td>6.0</td>\n",
       "      <td>G</td>\n",
       "    </tr>\n",
       "    <tr>\n",
       "      <th>118</th>\n",
       "      <td>12749</td>\n",
       "      <td>B73</td>\n",
       "      <td>12749</td>\n",
       "      <td>NaN</td>\n",
       "      <td>73.0</td>\n",
       "      <td>B</td>\n",
       "    </tr>\n",
       "    <tr>\n",
       "      <th>114</th>\n",
       "      <td>PC 17758</td>\n",
       "      <td>C65</td>\n",
       "      <td>17758</td>\n",
       "      <td>PC</td>\n",
       "      <td>65.0</td>\n",
       "      <td>C</td>\n",
       "    </tr>\n",
       "  </tbody>\n",
       "</table>\n",
       "</div>"
      ],
      "text/plain": [
       "       Ticket    Cabin  Ticket_number Ticket_code  Cabin_number Cabin_code\n",
       "88     113760  B96 B98         113760         NaN          96.0          B\n",
       "113    110152      B79         110152         NaN          79.0          B\n",
       "90    PP 9549       G6           9549          PP           6.0          G\n",
       "118     12749      B73          12749         NaN          73.0          B\n",
       "114  PC 17758      C65          17758          PC          65.0          C"
      ]
     },
     "execution_count": 13,
     "metadata": {},
     "output_type": "execute_result"
    }
   ],
   "source": [
    "df.sample(5)"
   ]
  },
  {
   "cell_type": "code",
   "execution_count": null,
   "id": "c42d7d7d-28c0-41b1-9b9d-40926289c717",
   "metadata": {},
   "outputs": [],
   "source": []
  }
 ],
 "metadata": {
  "kernelspec": {
   "display_name": "Python 3 (ipykernel)",
   "language": "python",
   "name": "python3"
  },
  "language_info": {
   "codemirror_mode": {
    "name": "ipython",
    "version": 3
   },
   "file_extension": ".py",
   "mimetype": "text/x-python",
   "name": "python",
   "nbconvert_exporter": "python",
   "pygments_lexer": "ipython3",
   "version": "3.12.8"
  }
 },
 "nbformat": 4,
 "nbformat_minor": 5
}
