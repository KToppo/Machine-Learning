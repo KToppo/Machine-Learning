{
 "cells": [
  {
   "cell_type": "code",
   "execution_count": 1,
   "id": "c547a84f-6a20-48ab-a7a6-733117031b86",
   "metadata": {},
   "outputs": [],
   "source": [
    "import pickle\n",
    "import pandas as pd"
   ]
  },
  {
   "cell_type": "markdown",
   "id": "56f5eb5b-b031-4962-8923-6fe3199300ff",
   "metadata": {
    "jp-MarkdownHeadingCollapsed": true
   },
   "source": [
    "# Load Model"
   ]
  },
  {
   "cell_type": "code",
   "execution_count": 2,
   "id": "d7770c6c-5647-422b-a7e5-8fc5826c7785",
   "metadata": {},
   "outputs": [],
   "source": [
    "pipe = pickle.load(open('with_pipline_models/model.pkl','rb'))"
   ]
  },
  {
   "cell_type": "markdown",
   "id": "265dee88-fb87-4cf1-a58c-597e88eb3af5",
   "metadata": {},
   "source": [
    "# Dummy Data Creation"
   ]
  },
  {
   "cell_type": "code",
   "execution_count": 3,
   "id": "70672954-1035-4c5d-8983-899b40d31c25",
   "metadata": {},
   "outputs": [
    {
     "data": {
      "text/html": [
       "<div>\n",
       "<style scoped>\n",
       "    .dataframe tbody tr th:only-of-type {\n",
       "        vertical-align: middle;\n",
       "    }\n",
       "\n",
       "    .dataframe tbody tr th {\n",
       "        vertical-align: top;\n",
       "    }\n",
       "\n",
       "    .dataframe thead th {\n",
       "        text-align: right;\n",
       "    }\n",
       "</style>\n",
       "<table border=\"1\" class=\"dataframe\">\n",
       "  <thead>\n",
       "    <tr style=\"text-align: right;\">\n",
       "      <th></th>\n",
       "      <th>Pclass</th>\n",
       "      <th>Sex</th>\n",
       "      <th>Age</th>\n",
       "      <th>SibSp</th>\n",
       "      <th>Parch</th>\n",
       "      <th>Fare</th>\n",
       "      <th>Embarked</th>\n",
       "    </tr>\n",
       "  </thead>\n",
       "  <tbody>\n",
       "    <tr>\n",
       "      <th>0</th>\n",
       "      <td>1</td>\n",
       "      <td>male</td>\n",
       "      <td>18</td>\n",
       "      <td>0</td>\n",
       "      <td>2</td>\n",
       "      <td>75.5</td>\n",
       "      <td>S</td>\n",
       "    </tr>\n",
       "  </tbody>\n",
       "</table>\n",
       "</div>"
      ],
      "text/plain": [
       "   Pclass   Sex  Age  SibSp  Parch  Fare Embarked\n",
       "0       1  male   18      0      2  75.5        S"
      ]
     },
     "execution_count": 3,
     "metadata": {},
     "output_type": "execute_result"
    }
   ],
   "source": [
    "test_input = pd.DataFrame([[1,'male',18,0,2,75.5,'S']],columns=['Pclass', 'Sex', 'Age', 'SibSp', 'Parch', 'Fare', 'Embarked'])\n",
    "test_input"
   ]
  },
  {
   "cell_type": "markdown",
   "id": "a37e8b51-0600-4e91-8264-b62fe8ffafc2",
   "metadata": {},
   "source": [
    "# Predict Dummy Data Output"
   ]
  },
  {
   "cell_type": "code",
   "execution_count": 4,
   "id": "d258679f-fa08-41de-aeea-1b9d4d267abb",
   "metadata": {},
   "outputs": [
    {
     "data": {
      "text/plain": [
       "array([0])"
      ]
     },
     "execution_count": 4,
     "metadata": {},
     "output_type": "execute_result"
    }
   ],
   "source": [
    "pipe.predict(test_input)"
   ]
  },
  {
   "cell_type": "markdown",
   "id": "78397ef7-6e37-4c70-be91-643ab9e9cf0f",
   "metadata": {},
   "source": [
    "# Importing Entire Data"
   ]
  },
  {
   "cell_type": "code",
   "execution_count": 5,
   "id": "d8b70f70-6b1a-4646-90d7-8cb68d2b13bf",
   "metadata": {},
   "outputs": [],
   "source": [
    "df = pd.read_csv('Assets/Titanic-Dataset.csv',\n",
    "                usecols=['Survived', 'Pclass', 'Sex', 'Age', 'SibSp', 'Parch','Fare', 'Embarked'])"
   ]
  },
  {
   "cell_type": "markdown",
   "id": "5ebb97fe-bc28-4560-93c3-3536965d6ed4",
   "metadata": {},
   "source": [
    "# Predict and Accuracy on Entire Dataset"
   ]
  },
  {
   "cell_type": "code",
   "execution_count": 6,
   "id": "acbced32-ac29-4346-bfb6-e836ffc12d84",
   "metadata": {},
   "outputs": [],
   "source": [
    "pred = pipe.predict(df[['Pclass', 'Sex', 'Age', 'SibSp', 'Parch', 'Fare', 'Embarked']])"
   ]
  },
  {
   "cell_type": "code",
   "execution_count": 7,
   "id": "ce6a978f-913d-495f-ad0e-35acac5beeaa",
   "metadata": {},
   "outputs": [
    {
     "data": {
      "text/plain": [
       "82.15"
      ]
     },
     "execution_count": 7,
     "metadata": {},
     "output_type": "execute_result"
    }
   ],
   "source": [
    "from sklearn.metrics import accuracy_score\n",
    "round(accuracy_score(y_pred=pred,y_true=df['Survived'])*100,2)"
   ]
  },
  {
   "cell_type": "code",
   "execution_count": null,
   "id": "7b2ace4f-b03e-42f5-9ab5-b316229bbd37",
   "metadata": {},
   "outputs": [],
   "source": []
  }
 ],
 "metadata": {
  "kernelspec": {
   "display_name": "Python 3 (ipykernel)",
   "language": "python",
   "name": "python3"
  },
  "language_info": {
   "codemirror_mode": {
    "name": "ipython",
    "version": 3
   },
   "file_extension": ".py",
   "mimetype": "text/x-python",
   "name": "python",
   "nbconvert_exporter": "python",
   "pygments_lexer": "ipython3",
   "version": "3.12.8"
  }
 },
 "nbformat": 4,
 "nbformat_minor": 5
}
