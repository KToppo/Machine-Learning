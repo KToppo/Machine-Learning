{
 "cells": [
  {
   "cell_type": "code",
   "execution_count": 1,
   "id": "dd205e98-0f4d-436a-b051-9704890c07c5",
   "metadata": {},
   "outputs": [],
   "source": [
    "import pickle\n",
    "import pandas as pd\n",
    "import numpy as np"
   ]
  },
  {
   "cell_type": "code",
   "execution_count": 2,
   "id": "33545447-0c44-4f2a-ab2a-3e86821fa44c",
   "metadata": {},
   "outputs": [],
   "source": [
    "ohe_sex = pickle.load(open('without_pipline_models/ohe_sex.pkl','rb'))\n",
    "ohe_embarked = pickle.load(open('without_pipline_models/ohe_embarked.pkl','rb'))\n",
    "age_fare_scale = pickle.load(open('without_pipline_models/age_fare_scale.pkl','rb'))\n",
    "clf = pickle.load(open('without_pipline_models/clf.pkl','rb'))"
   ]
  },
  {
   "cell_type": "code",
   "execution_count": 3,
   "id": "42d9f433-3fe4-4d35-b5de-a3a69130b45f",
   "metadata": {},
   "outputs": [
    {
     "data": {
      "text/html": [
       "<div>\n",
       "<style scoped>\n",
       "    .dataframe tbody tr th:only-of-type {\n",
       "        vertical-align: middle;\n",
       "    }\n",
       "\n",
       "    .dataframe tbody tr th {\n",
       "        vertical-align: top;\n",
       "    }\n",
       "\n",
       "    .dataframe thead th {\n",
       "        text-align: right;\n",
       "    }\n",
       "</style>\n",
       "<table border=\"1\" class=\"dataframe\">\n",
       "  <thead>\n",
       "    <tr style=\"text-align: right;\">\n",
       "      <th></th>\n",
       "      <th>Pclass</th>\n",
       "      <th>Sex</th>\n",
       "      <th>Age</th>\n",
       "      <th>SibSp</th>\n",
       "      <th>Parch</th>\n",
       "      <th>Fare</th>\n",
       "      <th>Embarked</th>\n",
       "    </tr>\n",
       "  </thead>\n",
       "  <tbody>\n",
       "    <tr>\n",
       "      <th>1</th>\n",
       "      <td>1</td>\n",
       "      <td>male</td>\n",
       "      <td>18.0</td>\n",
       "      <td>0</td>\n",
       "      <td>2</td>\n",
       "      <td>100.5</td>\n",
       "      <td>S</td>\n",
       "    </tr>\n",
       "    <tr>\n",
       "      <th>2</th>\n",
       "      <td>3</td>\n",
       "      <td>female</td>\n",
       "      <td>45.0</td>\n",
       "      <td>1</td>\n",
       "      <td>0</td>\n",
       "      <td>10.8</td>\n",
       "      <td>C</td>\n",
       "    </tr>\n",
       "  </tbody>\n",
       "</table>\n",
       "</div>"
      ],
      "text/plain": [
       "   Pclass     Sex   Age  SibSp  Parch   Fare Embarked\n",
       "1       1    male  18.0      0      2  100.5        S\n",
       "2       3  female  45.0      1      0   10.8        C"
      ]
     },
     "execution_count": 3,
     "metadata": {},
     "output_type": "execute_result"
    }
   ],
   "source": [
    "test_input = pd.DataFrame({'Pclass':[1,3], 'Sex':['male','female'],\n",
    "                           'Age':[18.0, 45.0], 'SibSp':[0,1], 'Parch':[2,0],\n",
    "                           'Fare':[100.5,10.8], 'Embarked':['S','C']},\n",
    "                          index=[1,2])\n",
    "test_input"
   ]
  },
  {
   "cell_type": "code",
   "execution_count": 4,
   "id": "4b006dab-9f97-454c-bb22-ffaff96a4b96",
   "metadata": {},
   "outputs": [
    {
     "name": "stderr",
     "output_type": "stream",
     "text": [
      "/home/sptrop/Desktop/.desk/Jupyter/venv/lib/python3.12/site-packages/sklearn/utils/validation.py:2732: UserWarning: X has feature names, but OneHotEncoder was fitted without feature names\n",
      "  warnings.warn(\n"
     ]
    }
   ],
   "source": [
    "test_input_sex = ohe_sex.transform(test_input[['Sex']])\n",
    "test_input_embarked = ohe_embarked.transform(test_input[['Embarked']])\n",
    "test_input_age_fare = age_fare_scale.transform(test_input[['Age','Fare']])"
   ]
  },
  {
   "cell_type": "code",
   "execution_count": 5,
   "id": "2ed0758a-db80-4107-9ead-26c68b796920",
   "metadata": {},
   "outputs": [
    {
     "data": {
      "text/plain": [
       "(2, 10)"
      ]
     },
     "execution_count": 5,
     "metadata": {},
     "output_type": "execute_result"
    }
   ],
   "source": [
    "test_input_rem = test_input.drop(columns=['Age', 'Fare', 'Embarked', 'Sex'])\n",
    "test_input_transform = np.concat((test_input_rem,test_input_age_fare,test_input_sex,test_input_embarked),axis=1)\n",
    "test_input_transform.shape"
   ]
  },
  {
   "cell_type": "code",
   "execution_count": 6,
   "id": "bd6db09a-e5cf-451a-9e86-0d26b004669f",
   "metadata": {},
   "outputs": [
    {
     "data": {
      "text/plain": [
       "array([1, 0])"
      ]
     },
     "execution_count": 6,
     "metadata": {},
     "output_type": "execute_result"
    }
   ],
   "source": [
    "clf.predict(test_input_transform)"
   ]
  },
  {
   "cell_type": "code",
   "execution_count": null,
   "id": "51ce77f6-4c89-408e-a826-99c5bccdac3d",
   "metadata": {},
   "outputs": [],
   "source": []
  }
 ],
 "metadata": {
  "kernelspec": {
   "display_name": "Python 3 (ipykernel)",
   "language": "python",
   "name": "python3"
  },
  "language_info": {
   "codemirror_mode": {
    "name": "ipython",
    "version": 3
   },
   "file_extension": ".py",
   "mimetype": "text/x-python",
   "name": "python",
   "nbconvert_exporter": "python",
   "pygments_lexer": "ipython3",
   "version": "3.12.8"
  }
 },
 "nbformat": 4,
 "nbformat_minor": 5
}
